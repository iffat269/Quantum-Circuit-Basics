{
  "nbformat": 4,
  "nbformat_minor": 0,
  "metadata": {
    "colab": {
      "provenance": [],
      "toc_visible": true,
      "authorship_tag": "ABX9TyNHrRbTMEfdu6eQi48EMcVH",
      "include_colab_link": true
    },
    "kernelspec": {
      "name": "python3",
      "display_name": "Python 3"
    },
    "language_info": {
      "name": "python"
    }
  },
  "cells": [
    {
      "cell_type": "markdown",
      "metadata": {
        "id": "view-in-github",
        "colab_type": "text"
      },
      "source": [
        "<a href=\"https://colab.research.google.com/github/iffat269/Quantum-Circuit-Basics/blob/main/Quantum_Computer_Programming_Basics.ipynb\" target=\"_parent\"><img src=\"https://colab.research.google.com/assets/colab-badge.svg\" alt=\"Open In Colab\"/></a>"
      ]
    },
    {
      "cell_type": "markdown",
      "source": [
        "# Pakages Imports and Setup"
      ],
      "metadata": {
        "id": "SBOSkS4qXgEc"
      }
    },
    {
      "cell_type": "code",
      "execution_count": null,
      "metadata": {
        "id": "eU99IrJAHPwD",
        "collapsed": true
      },
      "outputs": [],
      "source": [
        "\n",
        "\n",
        "#!pip3 show pip\n",
        "#!pip install qiskit numpy matplotlib qiskit-ibmq-provider\n",
        "#qiskit-terra\n",
        "#qiskit-aer\n",
        "# !pip install qiskit\n",
        "# !pip uninstall qiskit-terra -y\n",
        "# import qiskit as q\n",
        "# %matplotlib inline\n"
      ]
    },
    {
      "cell_type": "code",
      "source": [
        "!pip install qiskit\n",
        "!pip install numpy matplotlib"
      ],
      "metadata": {
        "colab": {
          "base_uri": "https://localhost:8080/"
        },
        "collapsed": true,
        "id": "eG0uXNJ0VxTm",
        "outputId": "1c37d07f-ce07-46d6-b67d-91236695e6e7"
      },
      "execution_count": 10,
      "outputs": [
        {
          "output_type": "stream",
          "name": "stdout",
          "text": [
            "Requirement already satisfied: qiskit in /usr/local/lib/python3.10/dist-packages (1.2.4)\n",
            "Requirement already satisfied: rustworkx>=0.15.0 in /usr/local/lib/python3.10/dist-packages (from qiskit) (0.15.1)\n",
            "Requirement already satisfied: numpy<3,>=1.17 in /usr/local/lib/python3.10/dist-packages (from qiskit) (1.26.4)\n",
            "Requirement already satisfied: scipy>=1.5 in /usr/local/lib/python3.10/dist-packages (from qiskit) (1.13.1)\n",
            "Requirement already satisfied: sympy>=1.3 in /usr/local/lib/python3.10/dist-packages (from qiskit) (1.13.1)\n",
            "Requirement already satisfied: dill>=0.3 in /usr/local/lib/python3.10/dist-packages (from qiskit) (0.3.9)\n",
            "Requirement already satisfied: python-dateutil>=2.8.0 in /usr/local/lib/python3.10/dist-packages (from qiskit) (2.8.2)\n",
            "Requirement already satisfied: stevedore>=3.0.0 in /usr/local/lib/python3.10/dist-packages (from qiskit) (5.3.0)\n",
            "Requirement already satisfied: typing-extensions in /usr/local/lib/python3.10/dist-packages (from qiskit) (4.12.2)\n",
            "Requirement already satisfied: symengine<0.14,>=0.11 in /usr/local/lib/python3.10/dist-packages (from qiskit) (0.13.0)\n",
            "Requirement already satisfied: six>=1.5 in /usr/local/lib/python3.10/dist-packages (from python-dateutil>=2.8.0->qiskit) (1.16.0)\n",
            "Requirement already satisfied: pbr>=2.0.0 in /usr/local/lib/python3.10/dist-packages (from stevedore>=3.0.0->qiskit) (6.1.0)\n",
            "Requirement already satisfied: mpmath<1.4,>=1.1.0 in /usr/local/lib/python3.10/dist-packages (from sympy>=1.3->qiskit) (1.3.0)\n",
            "Requirement already satisfied: numpy in /usr/local/lib/python3.10/dist-packages (1.26.4)\n",
            "Requirement already satisfied: matplotlib in /usr/local/lib/python3.10/dist-packages (3.8.0)\n",
            "Requirement already satisfied: contourpy>=1.0.1 in /usr/local/lib/python3.10/dist-packages (from matplotlib) (1.3.0)\n",
            "Requirement already satisfied: cycler>=0.10 in /usr/local/lib/python3.10/dist-packages (from matplotlib) (0.12.1)\n",
            "Requirement already satisfied: fonttools>=4.22.0 in /usr/local/lib/python3.10/dist-packages (from matplotlib) (4.54.1)\n",
            "Requirement already satisfied: kiwisolver>=1.0.1 in /usr/local/lib/python3.10/dist-packages (from matplotlib) (1.4.7)\n",
            "Requirement already satisfied: packaging>=20.0 in /usr/local/lib/python3.10/dist-packages (from matplotlib) (24.1)\n",
            "Requirement already satisfied: pillow>=6.2.0 in /usr/local/lib/python3.10/dist-packages (from matplotlib) (10.4.0)\n",
            "Requirement already satisfied: pyparsing>=2.3.1 in /usr/local/lib/python3.10/dist-packages (from matplotlib) (3.2.0)\n",
            "Requirement already satisfied: python-dateutil>=2.7 in /usr/local/lib/python3.10/dist-packages (from matplotlib) (2.8.2)\n",
            "Requirement already satisfied: six>=1.5 in /usr/local/lib/python3.10/dist-packages (from python-dateutil>=2.7->matplotlib) (1.16.0)\n"
          ]
        }
      ]
    },
    {
      "cell_type": "code",
      "source": [
        "import qiskit as q\n",
        "%matplotlib inline"
      ],
      "metadata": {
        "id": "_-yEXKLFF0rx"
      },
      "execution_count": 2,
      "outputs": []
    },
    {
      "cell_type": "markdown",
      "source": [
        "# Quantum Circuit Basics"
      ],
      "metadata": {
        "id": "N-YfO2m8XqHm"
      }
    },
    {
      "cell_type": "markdown",
      "source": [
        "**Deterministic state - No superposition or entanglement**\n",
        "A circuit where qubits without superposition or entanglement, resulting in predictable states.\n",
        "Algorithm:\n",
        "- Initialize qubits\n",
        "- Apply specific gates\n",
        "- Measure qubits"
      ],
      "metadata": {
        "id": "W1QZxF_SXN_C"
      }
    },
    {
      "cell_type": "code",
      "source": [
        "circuit=q.QuantumCircuit(2,2) #Take 2 qbits 2 bits\n",
        "circuit.x(0)\n",
        "circuit.cx(0,1)\n",
        "circuit.measure([0,1],[0,1])\n",
        "circuit.draw()\n"
      ],
      "metadata": {
        "id": "h26nsgkuHQQp",
        "colab": {
          "base_uri": "https://localhost:8080/",
          "height": 125
        },
        "outputId": "3ffc9e72-7c23-4965-c796-760fac9a7d3d"
      },
      "execution_count": 5,
      "outputs": [
        {
          "output_type": "execute_result",
          "data": {
            "text/plain": [
              "     ┌───┐     ┌─┐   \n",
              "q_0: ┤ X ├──■──┤M├───\n",
              "     └───┘┌─┴─┐└╥┘┌─┐\n",
              "q_1: ─────┤ X ├─╫─┤M├\n",
              "          └───┘ ║ └╥┘\n",
              "c: 2/═══════════╩══╩═\n",
              "                0  1 "
            ],
            "text/html": [
              "<pre style=\"word-wrap: normal;white-space: pre;background: #fff0;line-height: 1.1;font-family: &quot;Courier New&quot;,Courier,monospace\">     ┌───┐     ┌─┐   \n",
              "q_0: ┤ X ├──■──┤M├───\n",
              "     └───┘┌─┴─┐└╥┘┌─┐\n",
              "q_1: ─────┤ X ├─╫─┤M├\n",
              "          └───┘ ║ └╥┘\n",
              "c: 2/═══════════╩══╩═\n",
              "                0  1 </pre>"
            ]
          },
          "metadata": {},
          "execution_count": 5
        }
      ]
    },
    {
      "cell_type": "markdown",
      "source": [
        "**Non-Deterministic Bell State Circuit -basic forms of quantum entanglement.**\n",
        "Creates a Bell state to exhibit entanglement, resulting non-deterministic outcomes.\n",
        "Algorithm:\n",
        "- Initialize two qubits.\n",
        "- Apply `H` gate to the any qubit.\n",
        "- Apply `CNOT` gate from the first to other qubit.\n",
        "- Measure both qubits."
      ],
      "metadata": {
        "id": "Wh63M9MoYOZl"
      }
    },
    {
      "cell_type": "code",
      "source": [
        "circuit= q.QuantumCircuit(2,2)\n",
        "circuit.h(0)\n",
        "circuit.cx(0,1)\n",
        "circuit.measure([0,1],[0,1])\n",
        "circuit.draw()"
      ],
      "metadata": {
        "colab": {
          "base_uri": "https://localhost:8080/",
          "height": 125
        },
        "id": "_9ExfARqY1yL",
        "outputId": "14e855bf-a5ee-482d-f891-df9ab5a4201f"
      },
      "execution_count": null,
      "outputs": [
        {
          "output_type": "execute_result",
          "data": {
            "text/plain": [
              "     ┌───┐     ┌─┐   \n",
              "q_0: ┤ H ├──■──┤M├───\n",
              "     └───┘┌─┴─┐└╥┘┌─┐\n",
              "q_1: ─────┤ X ├─╫─┤M├\n",
              "          └───┘ ║ └╥┘\n",
              "c: 2/═══════════╩══╩═\n",
              "                0  1 "
            ],
            "text/html": [
              "<pre style=\"word-wrap: normal;white-space: pre;background: #fff0;line-height: 1.1;font-family: &quot;Courier New&quot;,Courier,monospace\">     ┌───┐     ┌─┐   \n",
              "q_0: ┤ H ├──■──┤M├───\n",
              "     └───┘┌─┴─┐└╥┘┌─┐\n",
              "q_1: ─────┤ X ├─╫─┤M├\n",
              "          └───┘ ║ └╥┘\n",
              "c: 2/═══════════╩══╩═\n",
              "                0  1 </pre>"
            ]
          },
          "metadata": {},
          "execution_count": 7
        }
      ]
    },
    {
      "cell_type": "markdown",
      "source": [
        "**Quantum Teleportation Circuit** -Transfer a qubit's state to another Transfers using entanglement and classical communication.\n",
        "Algorithm:\n",
        "- Initialize three qubits; set first in superposition |ψ⟩ and others in |0⟩.\n",
        "- Apply `H` and `CNOT` to create entanglement between the second and third qubits.\n",
        "- Apply `CNOT` and `H` to the first qubit.\n",
        "- Measure the first and second qubits.\n",
        "- Apply `CNOT` and `CZ` gates conditionally to the third qubit based on measurements.\n",
        "- Measure the third qubit."
      ],
      "metadata": {
        "id": "rZwuytQDYqHI"
      }
    },
    {
      "cell_type": "code",
      "source": [
        "circuit = q.QuantumCircuit(3, 3)\n",
        "\n",
        "circuit.h(0)\n",
        "\n",
        "circuit.h(1)\n",
        "circuit.cx(1, 2)\n",
        "\n",
        "circuit.cx(0, 1)\n",
        "circuit.h(0)\n",
        "\n",
        "circuit.measure([0,1],[0,1])\n",
        "\n",
        "circuit.cx(1, 2)\n",
        "circuit.cz(0, 2)\n",
        "circuit.measure(2, 2)\n",
        "circuit.draw()"
      ],
      "metadata": {
        "id": "_t5hE-pXZeF7",
        "colab": {
          "base_uri": "https://localhost:8080/",
          "height": 156
        },
        "outputId": "99fb9a35-9d9d-4a82-931b-88799cf648a5"
      },
      "execution_count": 7,
      "outputs": [
        {
          "output_type": "execute_result",
          "data": {
            "text/plain": [
              "     ┌───┐          ┌───┐┌─┐           \n",
              "q_0: ┤ H ├───────■──┤ H ├┤M├──────■────\n",
              "     ├───┤     ┌─┴─┐└┬─┬┘└╥┘      │    \n",
              "q_1: ┤ H ├──■──┤ X ├─┤M├──╫───■───┼────\n",
              "     └───┘┌─┴─┐└───┘ └╥┘  ║ ┌─┴─┐ │ ┌─┐\n",
              "q_2: ─────┤ X ├───────╫───╫─┤ X ├─■─┤M├\n",
              "          └───┘       ║   ║ └───┘   └╥┘\n",
              "c: 3/═════════════════╩═══╩══════════╩═\n",
              "                      1   0          2 "
            ],
            "text/html": [
              "<pre style=\"word-wrap: normal;white-space: pre;background: #fff0;line-height: 1.1;font-family: &quot;Courier New&quot;,Courier,monospace\">     ┌───┐          ┌───┐┌─┐           \n",
              "q_0: ┤ H ├───────■──┤ H ├┤M├──────■────\n",
              "     ├───┤     ┌─┴─┐└┬─┬┘└╥┘      │    \n",
              "q_1: ┤ H ├──■──┤ X ├─┤M├──╫───■───┼────\n",
              "     └───┘┌─┴─┐└───┘ └╥┘  ║ ┌─┴─┐ │ ┌─┐\n",
              "q_2: ─────┤ X ├───────╫───╫─┤ X ├─■─┤M├\n",
              "          └───┘       ║   ║ └───┘   └╥┘\n",
              "c: 3/═════════════════╩═══╩══════════╩═\n",
              "                      1   0          2 </pre>"
            ]
          },
          "metadata": {},
          "execution_count": 7
        }
      ]
    },
    {
      "cell_type": "markdown",
      "source": [
        "**Implemention of the Deutsch-Jozsa Algorithm** - Determines if a function is constant or balanced in one query.\n",
        "Algorithm:\n",
        "- Initialize \\( n \\) qubits and one ancillary qubit.\n",
        "- Apply `H` gates to all qubits.\n",
        "- Apply the oracle \\( U_f \\).\n",
        "- Apply `H` gates to input qubits.\n",
        "- Measure input qubits."
      ],
      "metadata": {
        "id": "_2so3m8xYxY5"
      }
    },
    {
      "cell_type": "code",
      "source": [
        "n=3\n",
        "circuit=q.QuantumCircuit(n+1,n)\n",
        "# circuit.x(n)\n",
        "# circuit.h(n)\n",
        "for i in range(n):\n",
        "    circuit.h(i)\n",
        "circuit.x(n)\n",
        "circuit.h(n)\n",
        "\n",
        "circuit.cx(0, n)\n",
        "circuit.cx(1, n)\n",
        "circuit.cx(2, n)\n",
        "\n",
        "circuit.h(range(n+1))\n",
        "circuit.barrier()\n",
        "circuit.draw()\n",
        "\n",
        "for i in range(n):\n",
        "    circuit.h(i)\n",
        "\n",
        "\n",
        "circuit.measure([0,1,2], [0,1,2]) #range(n)\n",
        "\n",
        "circuit.draw()\n"
      ],
      "metadata": {
        "colab": {
          "base_uri": "https://localhost:8080/",
          "height": 186
        },
        "id": "DUdwurPcHXNO",
        "outputId": "b297209a-ee04-400c-b144-9bcc1840dbdb"
      },
      "execution_count": 9,
      "outputs": [
        {
          "output_type": "execute_result",
          "data": {
            "text/plain": [
              "     ┌───┐          ┌───┐           ░ ┌───┐┌─┐      \n",
              "q_0: ┤ H ├───────■──┤ H ├───────────░─┤ H ├┤M├──────\n",
              "     ├───┤       │  └───┘┌───┐      ░ ├───┤└╥┘┌─┐   \n",
              "q_1: ┤ H ├───────┼────■──┤ H ├──────░─┤ H ├─╫─┤M├───\n",
              "     ├───┤       │    │  └───┘┌───┐ ░ ├───┤ ║ └╥┘┌─┐\n",
              "q_2: ┤ H ├───────┼────┼────■──┤ H ├─░─┤ H ├─╫──╫─┤M├\n",
              "     ├───┤┌───┐┌─┴─┐┌─┴─┐┌─┴─┐├───┤ ░ └───┘ ║  ║ └╥┘\n",
              "q_3: ┤ X ├┤ H ├┤ X ├┤ X ├┤ X ├┤ H ├─░───────╫──╫──╫─\n",
              "     └───┘└───┘└───┘└───┘└───┘└───┘ ░       ║  ║  ║ \n",
              "c: 3/═══════════════════════════════════════╩══╩══╩═\n",
              "                                            0  1  2 "
            ],
            "text/html": [
              "<pre style=\"word-wrap: normal;white-space: pre;background: #fff0;line-height: 1.1;font-family: &quot;Courier New&quot;,Courier,monospace\">     ┌───┐          ┌───┐           ░ ┌───┐┌─┐      \n",
              "q_0: ┤ H ├───────■──┤ H ├───────────░─┤ H ├┤M├──────\n",
              "     ├───┤       │  └───┘┌───┐      ░ ├───┤└╥┘┌─┐   \n",
              "q_1: ┤ H ├───────┼────■──┤ H ├──────░─┤ H ├─╫─┤M├───\n",
              "     ├───┤       │    │  └───┘┌───┐ ░ ├───┤ ║ └╥┘┌─┐\n",
              "q_2: ┤ H ├───────┼────┼────■──┤ H ├─░─┤ H ├─╫──╫─┤M├\n",
              "     ├───┤┌───┐┌─┴─┐┌─┴─┐┌─┴─┐├───┤ ░ └───┘ ║  ║ └╥┘\n",
              "q_3: ┤ X ├┤ H ├┤ X ├┤ X ├┤ X ├┤ H ├─░───────╫──╫──╫─\n",
              "     └───┘└───┘└───┘└───┘└───┘└───┘ ░       ║  ║  ║ \n",
              "c: 3/═══════════════════════════════════════╩══╩══╩═\n",
              "                                            0  1  2 </pre>"
            ]
          },
          "metadata": {},
          "execution_count": 9
        }
      ]
    },
    {
      "cell_type": "markdown",
      "source": [
        "Simple Quantum Random Number Generator"
      ],
      "metadata": {
        "id": "8GGro5VBYzUa"
      }
    },
    {
      "cell_type": "markdown",
      "source": [],
      "metadata": {
        "id": "SdllcH7CJYEY"
      }
    },
    {
      "cell_type": "markdown",
      "source": [
        "# Advance Algorithm"
      ],
      "metadata": {
        "id": "jtV53mnIYINe"
      }
    },
    {
      "cell_type": "code",
      "source": [],
      "metadata": {
        "id": "Yr9neuf9JXJX"
      },
      "execution_count": null,
      "outputs": []
    },
    {
      "cell_type": "markdown",
      "source": [
        "# New Section"
      ],
      "metadata": {
        "id": "I3PN2mi4YL-J"
      }
    },
    {
      "cell_type": "code",
      "source": [
        "!pip uninstall qiskit -y\n"
      ],
      "metadata": {
        "colab": {
          "base_uri": "https://localhost:8080/"
        },
        "id": "krfhHLA7Vhar",
        "outputId": "1421b709-9abf-4f15-c238-4aaeac0d68e2"
      },
      "execution_count": 3,
      "outputs": [
        {
          "output_type": "stream",
          "name": "stdout",
          "text": [
            "Found existing installation: qiskit 1.2.4\n",
            "Uninstalling qiskit-1.2.4:\n",
            "  Successfully uninstalled qiskit-1.2.4\n"
          ]
        }
      ]
    }
  ]
}